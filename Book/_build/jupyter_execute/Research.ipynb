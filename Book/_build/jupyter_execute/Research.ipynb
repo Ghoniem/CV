{
 "cells": [
  {
   "cell_type": "markdown",
   "id": "2dde3c60-ee49-4b70-ba70-74f90fa9aa08",
   "metadata": {},
   "source": [
    "# Research\r\n",
    "<div style=\"text-align: justify;\">\r\n",
    "Professor Nasr Ghoniem is a renowned scholar and a prominent leader in nuclear and aerospace engineering, materials science, and the mechanics and physics of materials. His contributions are widely recognized across these disciplines, and he is an active member of numerous scientific societies. He has played a pivotal national and international role in shaping science and technology strategies to address complex mechanics and materials science challenges. His distinguished career is marked by groundbreaking research, significant scientific achievements, an exceptional publication portfolio, and a strong commitment to mentoring and educating the next generation of engineers and scientists. His research has included a range of materials science and physics problems, exemplified by a unique understanding of the role of fundamental science in advancing technological innovation in mechanical, nuclear, and aerospace engineering.  He conducted and led research on damage and failure of materials, defect mechanics and physics, material degradation in severe environments, plasma and laser processing, self-organization and instability phenomena, and radiation interaction with materials.  He is widely recognized for his significant contributions that have shaped the development of materials science, aerospace, and nuclear engineering, including:\r\n",
    "\r\n",
    "- His extensive work on the theory of **Microstructure Evolution in Irradiated Materials**, particularly in helium transport, bubble formation, and effects on mechanical properties.\r\n",
    "- He is the inventor of **Environmentally Friendly** steels (low-activation), significantly reducing radioactivity levels compared to previous steels used in nuclear fusion energy applications.\r\n",
    "- His development of the method of **Dislocation Dynamics**: a computational tool in materials science for studying metal plasticity and fracture.\r\n",
    "- His tireless efforts to establish the field of **Multiscale Modeling**, inspiring numerous research activities and breaking barriers between traditional disciplines.\r\n",
    "- His research on **Self-organization and Pattern Formation Phenomena in Materials Far From Equilibrium**.\r\n",
    "- His ability to translate fundamental research into technological applications for society's benefit as the founder and CEO of **Digital Materials Solutions, Inc. (DMS)**. Visit [DMS](https://dmsmultiphysics.com/) for more information.\r\n",
    "\r\n",
    "Nasr’s publication record includes over 450 publications (380 refereed journal articles), with over 12,000 citations (Google Scholar). He edited eight books on applied plasma science, multiscale modeling of materials, plasticity & fracture, and nano- and micro-mechanics, and is the co-author of a two-volume book (1100 pages) published by Oxford Press (2008): Nasr M. Ghoniem and Daniel Walgraef, Instabilities and Self-Organization in Materials, Volume I: Fundamentals of Nanoscience, Volume II: Applications in Materials Design and Nanotechnology. The first volume lays the mathematical and computational foundations of multiscale modeling methods in materials science. The second volume provides the reader with many applications of self-organization phenomena in areas as diverse as thin films, crystal growth, radiation effects, surface roughening, plasticity, fracture, plasma and laser processing, and nano-particle self-organization. \r\n",
    "\r\n",
    "He was the general chair of the Second International Multiscale Materials Modeling Conference in 2004 and the chair of the 19$^{th}$ International Conference on Fusion Reactor Materials in 2019. He serves on the editorial boards of several journals and has published over 350 articles, 10 edited books, and is the co-author of a two-volume book (Oxford Press) on the mechanics and physics of defects, computational materials science, radiation interaction with materials, instabilities,\r\n",
    "and self-organization in non-equilibrium materials (Oxford Press, 2007, 1100 pages - [Instabilities and Self-Organization in Materials](https://www.amazon.com/Instabilities-Self-Organization-Materials-Monographs-Chemistry/dp/0199298688)). He supervised and mentored 45 Ph.D. students and 30 postdoctoral scholars. Sixteen of his former students and postdocs are professors at various universities around the world, and many are technology leaders in the United States\r\n",
    "\r\n",
    "</div>\r\n",
    "\r\n",
    "Visit his research website [Ghoniem at UCLA](https://samueli.ucla.edu/people/nasr-ghoniem/) and [Ghoniem Publications](https://scholar.google.com/citations?user=otTEfXUAAAAJ&hl=en)\r\n"
   ]
  },
  {
   "cell_type": "code",
   "execution_count": null,
   "id": "c0e76db5-6409-41f9-bb26-9d6b26ce4d33",
   "metadata": {},
   "outputs": [],
   "source": []
  }
 ],
 "metadata": {
  "kernelspec": {
   "display_name": "Python 3 (ipykernel)",
   "language": "python",
   "name": "python3"
  },
  "language_info": {
   "codemirror_mode": {
    "name": "ipython",
    "version": 3
   },
   "file_extension": ".py",
   "mimetype": "text/x-python",
   "name": "python",
   "nbconvert_exporter": "python",
   "pygments_lexer": "ipython3",
   "version": "3.9.19"
  }
 },
 "nbformat": 4,
 "nbformat_minor": 5
}