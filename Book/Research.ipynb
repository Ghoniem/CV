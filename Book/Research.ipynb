{
 "cells": [
  {
   "cell_type": "markdown",
   "id": "7fb16941-bb2a-4243-9813-cfc446b17159",
   "metadata": {},
   "source": [
    "# Research Areas\n",
    "\n",
    "Nasr Ghoniem is internationally renowned as a materials scientist for his seminal scientific contributions. His research has included a range of materials science and materials physics problems, exemplified by a unique understanding of the role of fundamental materials science in advancing technological innovation.  He conducted and led research in the areas of damage and failure of materials, defect mechanics and physics, material degradation in severe environments, plasma and laser processing, self-organization and instability phenomena, and radiation interaction with materials.  Nasr’s publication record includes over 450 publications (380 refereed journal articles), with over 12,000 citations (Google Scholar). He edited eight books on applied plasma science, multiscale modeling of materials, plasticity & fracture, and nano- and micro-mechanics, and is the co-author of a two-volume book (1100 pages) published by Oxford Press (2008): Nasr M. Ghoniem and Daniel Walgraef, Instabilities and Self-Organization in Materials, Volume I: Fundamentals of Nanoscience, Volume II: Applications in Materials Design and Nanotechnology. The first volume lays the mathematical and computational foundations of multiscale modeling methods in materials science. The second volume provides the reader with many applications of self-organization phenomena in areas as diverse as thin films, crystal growth, radiation effects, surface roughening, plasticity, fracture, plasma and laser processing, and nano-particle self-organization. \n",
    "\n",
    "Nasr is well-known for his contributions that have shaped the development of material science in recent decades: (1) his extensive work on the theory of microstructure evolution in irradiated materials; especially helium transport, and helium-vacancy cluster formation, (2) his invention of a class of ferritic/ martensitic steels that have the property of “low-activation,” with vastly reduced radioactivity levels than prior steels used in nuclear applications, (3) his conceptualization of the method of “Dislocation Dynamics,” as a viable materials science computer simulation tool for investigations of metal plasticity at multi-scales, (4) his tireless efforts to work with leaders in the materials science community for the establishment of the field of multiscale modeling, which has spurred many recent research activities and captured the imagination of many scientists and funding agencies by breaking barriers between traditional disciplines, and (5) his research on self-organization and pattern formation phenomena in materials far from equilibrium.\n",
    "\n",
    "\n",
    "He was the general chair of the Second International Multiscale\n",
    "Materials Modeling Conference in 2004 and the chair of the 19$^{th}$\n",
    "International Conference on Fusion Reactor Materials in 2019. He serves\n",
    "on the editorial boards of several journals and has published over 350\n",
    "articles, 10 edited books, and is the co-author of a two-volume book\n",
    "(Oxford Press) on the mechanics and physics of defects, computational\n",
    "materials science, radiation interaction with materials, instabilities,\n",
    "and self-organization in non-equilibrium materials (Oxford Press, 2007,\n",
    "1100 pages - [Instabilities and Self-Organization in Materials](https://www.amazon.com/Instabilities-Self-Organization-Materials-Monographs-Chemistry/dp/0199298688)). He supervised and mentored 45 Ph.D. students and 30\n",
    "postdoctoral scholars. Sixteen of his former students and postdocs are professors at various universities around the world, and many are technology leaders in the United States\n",
    "\n",
    "Visit his research website [Ghoniem Research](https://www.seas.ucla.edu/matrix/html/ghoniem-bio.html) and [Ghoniem Publications](https://scholar.google.com/citations?user=otTEfXUAAAAJ&hl=en)\n",
    "\n",
    "Professor Nasr Ghoniem is a renowned scholar and a prominent leader in the fields of materials science and physics. His contributions are widely recognized across these disciplines, and he is an active member of numerous esteemed scientific societies. He has played a pivotal national and international role in shaping science and technology strategies to address complex challenges in mechanics and materials science. His distinguished career is marked by groundbreaking research, significant scientific achievements, an exceptional publication portfolio, and a strong commitment to mentoring and educating the next generation of materials scientists."
   ]
  }
 ],
 "metadata": {
  "kernelspec": {
   "display_name": "Python 3 (ipykernel)",
   "language": "python",
   "name": "python3"
  },
  "language_info": {
   "codemirror_mode": {
    "name": "ipython",
    "version": 3
   },
   "file_extension": ".py",
   "mimetype": "text/x-python",
   "name": "python",
   "nbconvert_exporter": "python",
   "pygments_lexer": "ipython3",
   "version": "3.9.19"
  }
 },
 "nbformat": 4,
 "nbformat_minor": 5
}
